{
 "cells": [
  {
   "cell_type": "code",
   "execution_count": null,
   "metadata": {},
   "outputs": [],
   "source": [
    "import numpy as np\n",
    "import pandas as pd\n",
    "import os\n",
    "import csv"
   ]
  },
  {
   "cell_type": "markdown",
   "metadata": {},
   "source": [
    "This just provides the path and filename for the multi-line metadata.tsv file to be split.  You'll have to update it for your environment."
   ]
  },
  {
   "cell_type": "code",
   "execution_count": null,
   "metadata": {},
   "outputs": [],
   "source": [
    "input_dir = \"/home/welling/git/hubmap/ingest-pipeline/src/ingest-pipeline/md/florida_10x_md\"\n",
    "in_fname = os.path.join(input_dir, \"UFLA_10XscRNAseq_metadata_050520_-_UFLA_10XscRNAseq_metadata_050520.tsv\")"
   ]
  },
  {
   "cell_type": "markdown",
   "metadata": {},
   "source": [
    "Read the records"
   ]
  },
  {
   "cell_type": "code",
   "execution_count": null,
   "metadata": {},
   "outputs": [],
   "source": [
    "recs = []\n",
    "with open(in_fname, 'r', newline='') as f:\n",
    "    dialect = csv.Sniffer().sniff(f.read(128))\n",
    "    f.seek(0)\n",
    "    reader = csv.DictReader(f, dialect=dialect)\n",
    "    for row in reader:\n",
    "        recs.append({k : v for k, v in row.items()})"
   ]
  },
  {
   "cell_type": "markdown",
   "metadata": {},
   "source": [
    "Check what we've read.  Beware of columns named '' or ' ' - they indicate a trailing tab and thus an empty column in the input file!"
   ]
  },
  {
   "cell_type": "code",
   "execution_count": null,
   "metadata": {},
   "outputs": [],
   "source": [
    "print(reader.fieldnames)"
   ]
  },
  {
   "cell_type": "code",
   "execution_count": null,
   "metadata": {},
   "outputs": [],
   "source": [
    "print(recs[0])"
   ]
  },
  {
   "cell_type": "code",
   "execution_count": null,
   "metadata": {},
   "outputs": [],
   "source": [
    "print(dialect.delimiter)  # should be tab"
   ]
  },
  {
   "cell_type": "markdown",
   "metadata": {},
   "source": [
    "Tool to find a uuid in a directory path"
   ]
  },
  {
   "cell_type": "code",
   "execution_count": null,
   "metadata": {},
   "outputs": [],
   "source": [
    "def is_uuid(s):\n",
    "    return s and len(s) == 32 and all([c in '0123456789abcdef' for c in list(s)])\n",
    "\n",
    "def get_uuid(s):\n",
    "    words = s.split('/')\n",
    "    while words:\n",
    "        if is_uuid(words[0]):\n",
    "            return words[0]\n",
    "        else:\n",
    "            words = words[1:]\n",
    "    return None"
   ]
  },
  {
   "cell_type": "markdown",
   "metadata": {},
   "source": [
    "Write the output single-line metadata.tsv files.\n",
    "*Output is written to the directory in which this notebook is running.*"
   ]
  },
  {
   "cell_type": "code",
   "execution_count": null,
   "metadata": {},
   "outputs": [],
   "source": [
    "for rawrec in recs:\n",
    "    rec = rawrec.copy()  # don't stomp on original\n",
    "    #display(rec)\n",
    "    uuid = get_uuid(rec['data_path'])\n",
    "    out_fname = '{}-metadata.tsv'.format(uuid)\n",
    "    print(out_fname)\n",
    "    rec['metadata_path'] = '.'\n",
    "    rec['data_path'] = '.'\n",
    "    with open(out_fname, 'w', newline='') as f:\n",
    "        writer = csv.DictWriter(f, dialect=dialect, fieldnames=reader.fieldnames)\n",
    "        writer.writeheader()\n",
    "        writer.writerow(rec)"
   ]
  },
  {
   "cell_type": "code",
   "execution_count": null,
   "metadata": {},
   "outputs": [],
   "source": []
  }
 ],
 "metadata": {
  "kernelspec": {
   "display_name": "Python3 (hubmapEnv)",
   "language": "python",
   "name": "hubmapenv"
  },
  "language_info": {
   "codemirror_mode": {
    "name": "ipython",
    "version": 3
   },
   "file_extension": ".py",
   "mimetype": "text/x-python",
   "name": "python",
   "nbconvert_exporter": "python",
   "pygments_lexer": "ipython3",
   "version": "3.7.3"
  }
 },
 "nbformat": 4,
 "nbformat_minor": 4
}
