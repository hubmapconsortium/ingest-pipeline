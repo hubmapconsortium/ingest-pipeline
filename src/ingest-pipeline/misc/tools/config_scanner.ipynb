{
 "cells": [
  {
   "cell_type": "markdown",
   "metadata": {},
   "source": [
    "## This utility scans configuration scripts and generates a unified representation of changes. ##"
   ]
  },
  {
   "cell_type": "code",
   "execution_count": null,
   "metadata": {},
   "outputs": [],
   "source": [
    "from pathlib import Path\n",
    "from collections import defaultdict\n",
    "import configparser\n",
    "import pandas as pd"
   ]
  },
  {
   "cell_type": "markdown",
   "metadata": {},
   "source": [
    "The git clones making up the hubmap services are rooted in a directory named ...somepath.../hubmap .\n",
    "*root_path* must be set to match that path."
   ]
  },
  {
   "cell_type": "code",
   "execution_count": null,
   "metadata": {},
   "outputs": [],
   "source": [
    "root_path = Path.home() / 'git/hubmap'"
   ]
  },
  {
   "cell_type": "markdown",
   "metadata": {},
   "source": [
    "These are the repos which comprise the hubmap services."
   ]
  },
  {
   "cell_type": "code",
   "execution_count": null,
   "metadata": {},
   "outputs": [],
   "source": [
    "repos = ['ingest-pipeline', 'ingest-ui', 'gateway', 'entity-api', 'search-api', 'uuid-api']\n",
    "repo_path_l = [root_path / repo for repo in repos]"
   ]
  },
  {
   "cell_type": "markdown",
   "metadata": {},
   "source": [
    "## Locate Configuration Files ##\n",
    "Find all app.cfg.example or example.env files in the named repos"
   ]
  },
  {
   "cell_type": "code",
   "execution_count": null,
   "metadata": {},
   "outputs": [],
   "source": [
    "cfg_path_l = []\n",
    "for repo_path in repo_path_l:\n",
    "    for elt in repo_path.glob('**/app.cfg.example'):\n",
    "        cfg_path_l.append(elt)\n",
    "    for elt in repo_path.glob('**/example.env'):\n",
    "        cfg_path_l.append(elt)"
   ]
  },
  {
   "cell_type": "code",
   "execution_count": null,
   "metadata": {},
   "outputs": [],
   "source": [
    "print(cfg_path_l)"
   ]
  },
  {
   "cell_type": "markdown",
   "metadata": {},
   "source": [
    "Build ConfigParsers for all example config files, and print a summary."
   ]
  },
  {
   "cell_type": "code",
   "execution_count": null,
   "metadata": {},
   "outputs": [],
   "source": [
    "def build_parser(path):\n",
    "    \"\"\"\n",
    "    Build a ConfigParser from the file at the given path.  If the file contains no section headers,\n",
    "    everything goes into a section named _root_.\n",
    "    \"\"\"\n",
    "    cfg = configparser.ConfigParser(interpolation=None)\n",
    "    try:\n",
    "        cfg.read(path)\n",
    "    except configparser.MissingSectionHeaderError:\n",
    "        with open(path) as stream:\n",
    "            cfg.read_string('[_root_]\\n' + stream.read())\n",
    "    return cfg"
   ]
  },
  {
   "cell_type": "code",
   "execution_count": null,
   "metadata": {},
   "outputs": [],
   "source": [
    "for cfg_path in cfg_path_l:\n",
    "    print(f'######### {cfg_path} ##########')\n",
    "    example_cfg = build_parser(cfg_path)\n",
    "    for sec in example_cfg.sections():\n",
    "        print(f'{sec}: {[key for key in example_cfg[sec]]}')"
   ]
  },
  {
   "cell_type": "markdown",
   "metadata": {},
   "source": [
    "And likewise for the config files themselves."
   ]
  },
  {
   "cell_type": "code",
   "execution_count": null,
   "metadata": {},
   "outputs": [],
   "source": [
    "inst_cfg_path_l = []\n",
    "for cfg_path in cfg_path_l:\n",
    "    inst_name = cfg_path.name.replace('.example','').replace('example','')  # app.cfg or .env\n",
    "    inst_cfg_path = cfg_path.parent / inst_name\n",
    "    inst_cfg_path_l.append(inst_cfg_path)"
   ]
  },
  {
   "cell_type": "code",
   "execution_count": null,
   "metadata": {},
   "outputs": [],
   "source": [
    "print(inst_cfg_path_l)"
   ]
  },
  {
   "cell_type": "markdown",
   "metadata": {},
   "source": [
    "## Utilities ##"
   ]
  },
  {
   "cell_type": "code",
   "execution_count": null,
   "metadata": {},
   "outputs": [],
   "source": [
    "def build_pandas_tbl(common_option_counts, common_option_example_values, common_option_cfg_values):\n",
    "    \"\"\"\n",
    "    A utility to build a pandas version of the configuration info, for convenience\n",
    "    \"\"\"\n",
    "    sort_me = [(-common_option_counts[opt], opt) for opt in common_option_counts]\n",
    "    sorted_opts = [b for a, b in sorted(sort_me)]\n",
    "    recs = []\n",
    "    for opt in sorted_opts:\n",
    "        recs.append({'opt':opt, 'occurs':common_option_counts[opt],\n",
    "                     'changed':common_option_example_values[opt] != common_option_cfg_values[opt],\n",
    "                     'example':common_option_example_values[opt],\n",
    "                     'configured':common_option_cfg_values[opt]})\n",
    "        rslt = pd.DataFrame(recs, columns=['opt', 'occurs', 'changed', 'example', 'configured'])\n",
    "    return rslt"
   ]
  },
  {
   "cell_type": "code",
   "execution_count": null,
   "metadata": {},
   "outputs": [],
   "source": [
    "def update_common_options(opt, example_sec, cfg_sec, c_data):\n",
    "    \"\"\"\n",
    "    Maintain some tables of changes and option names\n",
    "    \"\"\"\n",
    "    common_option_counts, common_option_example_values, common_option_cfg_values = c_data\n",
    "    example_val = example_sec[opt] if opt in example_sec else None\n",
    "    cfg_val = cfg_sec[opt] if opt in cfg_sec else None\n",
    "    common_option_counts[opt] += 1\n",
    "    if opt in common_option_example_values:\n",
    "        if common_option_example_values[opt] != example_val:\n",
    "            common_option_example_values[opt] = '**mismatch**'\n",
    "    else:\n",
    "        common_option_example_values[opt] = example_val\n",
    "    if opt in common_option_cfg_values:\n",
    "        if common_option_cfg_values[opt] != cfg_val:\n",
    "            common_option_cfg_values[opt] = '**mismatch**'\n",
    "    else:\n",
    "        common_option_cfg_values[opt] = cfg_val"
   ]
  },
  {
   "cell_type": "markdown",
   "metadata": {},
   "source": [
    "## The Actual Scanning ##\n",
    "Execute this block repeatedly as needed"
   ]
  },
  {
   "cell_type": "code",
   "execution_count": null,
   "metadata": {
    "scrolled": false
   },
   "outputs": [],
   "source": [
    "common_option_counts = defaultdict(int)\n",
    "common_option_example_values = {}\n",
    "common_option_cfg_values = {}\n",
    "common_data = (common_option_counts, common_option_example_values, common_option_cfg_values)\n",
    "\n",
    "for example_path, inst_path in zip(cfg_path_l, inst_cfg_path_l):\n",
    "    inst_rel = inst_path.relative_to(root_path)\n",
    "    print(f'#### {inst_rel} ####')\n",
    "    example_cfg = build_parser(example_path)\n",
    "    inst_cfg = build_parser(inst_path)\n",
    "    all_sections = set(example_cfg.sections() + inst_cfg.sections())\n",
    "    for sec in all_sections:\n",
    "        if sec not in example_cfg:\n",
    "            print(f'  Instance has section {sec} not found in example')\n",
    "        elif sec not in inst_cfg:\n",
    "            print(f'  Instance lacks section {sec} which is present in example')\n",
    "        else:\n",
    "            all_opts = set(example_cfg.options(sec) + inst_cfg.options(sec))\n",
    "            print(f'  [{sec}]')\n",
    "            for opt in sorted(all_opts):\n",
    "                print(f'    {opt}:', end=' ')\n",
    "                update_common_options(opt, example_cfg[sec], inst_cfg[sec], common_data)\n",
    "                if opt not in example_cfg.options(sec):\n",
    "                    print(f'added')\n",
    "                elif opt not in inst_cfg.options(sec):\n",
    "                    print(f'MISSING')\n",
    "                elif len(example_cfg[sec][opt].strip(\"'\").strip('\"')) == 0:\n",
    "                    if len(inst_cfg[sec][opt].strip(\"'\").strip('\"')) == 0:\n",
    "                        print(f'left blank')\n",
    "                    else:\n",
    "                        print(f'SET')\n",
    "                else:\n",
    "                    if inst_cfg[sec][opt] == example_cfg[sec][opt]:\n",
    "                        print('match')\n",
    "                    else:\n",
    "                        print('changed')\n",
    "\n",
    "tbl = build_pandas_tbl(*common_data)\n",
    "display(tbl[tbl.changed==True])"
   ]
  },
  {
   "cell_type": "code",
   "execution_count": null,
   "metadata": {},
   "outputs": [],
   "source": []
  }
 ],
 "metadata": {
  "kernelspec": {
   "display_name": "Python3 (hubmapEnv)",
   "language": "python",
   "name": "hubmapenv"
  },
  "language_info": {
   "codemirror_mode": {
    "name": "ipython",
    "version": 3
   },
   "file_extension": ".py",
   "mimetype": "text/x-python",
   "name": "python",
   "nbconvert_exporter": "python",
   "pygments_lexer": "ipython3",
   "version": "3.7.3"
  }
 },
 "nbformat": 4,
 "nbformat_minor": 4
}
